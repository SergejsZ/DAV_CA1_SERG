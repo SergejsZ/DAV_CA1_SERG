{
 "cells": [
  {
   "cell_type": "markdown",
   "metadata": {},
   "source": [
    "<h3>Loading and Displaying the Data </h3>"
   ]
  },
  {
   "cell_type": "code",
   "execution_count": 18,
   "metadata": {},
   "outputs": [
    {
     "name": "stdout",
     "output_type": "stream",
     "text": [
      "Available columns in the dataset: ['Country', 'Density\\n(P/Km2)', 'Abbreviation', 'Agricultural Land( %)', 'Land Area(Km2)', 'Armed Forces size', 'Birth Rate', 'Calling Code', 'Capital/Major City', 'Co2-Emissions', 'CPI', 'CPI Change (%)', 'Currency-Code', 'Fertility Rate', 'Forested Area (%)', 'Gasoline Price', 'GDP', 'Gross primary education enrollment (%)', 'Gross tertiary education enrollment (%)', 'Infant mortality', 'Largest city', 'Life expectancy', 'Maternal mortality ratio', 'Minimum wage', 'Official language', 'Out of pocket health expenditure', 'Physicians per thousand', 'Population', 'Population: Labor force participation (%)', 'Tax revenue (%)', 'Total tax rate', 'Unemployment rate', 'Urban_population', 'Latitude', 'Longitude']\n",
      "       Country Density\\n(P/Km2) Agricultural Land( %)  Population Co2-Emissions Urban_population\n",
      "0  Afghanistan               60                58.10%  38,041,754         8,672        9,797,273\n",
      "1      Albania              105                43.10%   2,854,191         4,536        1,747,593\n",
      "2      Algeria               18                17.40%  43,053,054       150,006       31,510,100\n",
      "3      Andorra              164                40.00%      77,142           469           67,873\n",
      "4       Angola               26                47.50%  31,825,295        34,693       21,061,025\n"
     ]
    }
   ],
   "source": [
    "import pandas as pd\n",
    "\n",
    "# Load the CSV file into a DataFrame\n",
    "data_path = 'C:\\\\Users\\\\serge\\\\FinalYear\\\\DAV\\\\DAV_CA1_SERG\\\\world-data-2023.csv'  \n",
    "data  = pd.read_csv(data_path)\n",
    "\n",
    "# Display all column \n",
    "print(\"Available columns in the dataset:\", data .columns.tolist())\n",
    "\n",
    "# selecting data from the dataset\n",
    "selected_columns = [\n",
    "    'Country',\n",
    "    'Density\\n(P/Km2)', \n",
    "    'Agricultural Land( %)',\n",
    "    'Population',\n",
    "    'Co2-Emissions',  \n",
    "    'Urban_population'\n",
    "]\n",
    "\n",
    "data = data[selected_columns]\n",
    "print(data.head())\n"
   ]
  },
  {
   "cell_type": "markdown",
   "metadata": {},
   "source": [
    "<h3>Cleaning the Data</h3>"
   ]
  },
  {
   "cell_type": "code",
   "execution_count": 19,
   "metadata": {},
   "outputs": [
    {
     "name": "stdout",
     "output_type": "stream",
     "text": [
      "There are empty rows in the dataset. Here are the details:\n",
      "                            Country Density (P/Km²)  Agricultural Land( %)  Population  Co2-Emissions Urban_population\n",
      "56                         Eswatini              67                    NaN   1,093,238            NaN              NaN\n",
      "73                     Vatican City           2,003                    NaN         836            NaN              NaN\n",
      "113                          Monaco          26,337                    NaN      38,964            NaN           38,964\n",
      "120                           Nauru             541                    NaN      10,084            NaN              NaN\n",
      "128                 North Macedonia              83                    NaN   1,836,713            NaN              NaN\n",
      "133  Palestinian National Authority             847                    NaN         NaN            NaN              NaN\n",
      "149                      San Marino             566                   0.17      33,860            NaN           32,969\n",
      "163                     South Sudan              18                    NaN  11,062,113         1727.0        2,201,250\n",
      "       Country Density (P/Km²)  Agricultural Land( %)  Population  Co2-Emissions Urban_population\n",
      "0  Afghanistan              60                   0.58  38,041,754         8672.0        9,797,273\n",
      "1      Albania             105                   0.43   2,854,191         4536.0        1,747,593\n",
      "2      Algeria              18                   0.17  43,053,054       150006.0       31,510,100\n",
      "3      Andorra             164                   0.40      77,142          469.0           67,873\n",
      "4       Angola              26                   0.47  31,825,295        34693.0       21,061,025\n"
     ]
    }
   ],
   "source": [
    "# renaming to handle the newline issue\n",
    "data = data[selected_columns]\n",
    "data = data.rename(columns={'Density\\n(P/Km2)': 'Density (P/Km²)'})\n",
    "\n",
    "# cleaning percentage data and commas in numbers\n",
    "data['Agricultural Land( %)'] = data['Agricultural Land( %)'].str.rstrip('%').astype(float) / 100\n",
    "data['Co2-Emissions'] = data['Co2-Emissions'].str.replace(',', '').astype(float)\n",
    "# renaming to handle the newline issue\n",
    "\n",
    "# Setting display options for better readability\n",
    "pd.set_option('display.max_columns', None)  # Ensure all columns are shown\n",
    "pd.set_option('display.width', 120)  # Set the display width for readability\n",
    "pd.set_option('display.precision', 2)  # Set the precision for floating point numbers\n",
    "\n",
    "# Checking for empty rows\n",
    "if data.isnull().any(axis=1).sum() > 0:\n",
    "    print(\"There are empty rows in the dataset. Here are the details:\")\n",
    "    print(data[data.isnull().any(axis=1)])\n",
    "else:\n",
    "    print(\"No empty rows found.\")\n",
    "\n",
    "# Print the first five rows of the data\n",
    "print(data.head())\n"
   ]
  },
  {
   "cell_type": "markdown",
   "metadata": {},
   "source": [
    "<h4>Dealing with empty rows</h4>"
   ]
  },
  {
   "cell_type": "code",
   "execution_count": 22,
   "metadata": {},
   "outputs": [
    {
     "name": "stdout",
     "output_type": "stream",
     "text": [
      "No empty rows found.\n"
     ]
    }
   ],
   "source": [
    "# Replace NaN with the mean of the column for 'Co2-Emissions'\n",
    "data['Co2-Emissions'].fillna(data['Co2-Emissions'].mean(), inplace=True)\n",
    "\n",
    "# Drop rows where there is no agricultural land and urban population data\n",
    "data.dropna(subset=['Agricultural Land( %)', 'Urban_population'], inplace=True)\n",
    "\n",
    "# Checking for empty rows\n",
    "if data.isnull().any(axis=1).sum() > 0:\n",
    "    print(\"There are empty rows in the dataset. Here are the details:\")\n",
    "    print(data[data.isnull().any(axis=1)])\n",
    "else:\n",
    "    print(\"No empty rows found.\")\n"
   ]
  }
 ],
 "metadata": {
  "kernelspec": {
   "display_name": "Python 3",
   "language": "python",
   "name": "python3"
  },
  "language_info": {
   "codemirror_mode": {
    "name": "ipython",
    "version": 3
   },
   "file_extension": ".py",
   "mimetype": "text/x-python",
   "name": "python",
   "nbconvert_exporter": "python",
   "pygments_lexer": "ipython3",
   "version": "3.11.9"
  }
 },
 "nbformat": 4,
 "nbformat_minor": 2
}
